{
 "cells": [
  {
   "cell_type": "code",
   "execution_count": 1,
   "metadata": {},
   "outputs": [],
   "source": [
    "import pandas\n",
    "import json\n",
    "import requests\n",
    "from requests.adapters import HTTPAdapter\n",
    "from requests.packages.urllib3.util.retry import Retry"
   ]
  },
  {
   "cell_type": "code",
   "execution_count": 2,
   "metadata": {},
   "outputs": [],
   "source": [
    "def requests_retry_session(\n",
    "    retries=3,\n",
    "    backoff_factor=0.3,\n",
    "    status_forcelist=(500, 502, 504),\n",
    "    session=None,\n",
    "):\n",
    "    session = session or requests.Session()\n",
    "    retry = Retry(\n",
    "        total=retries,\n",
    "        read=retries,\n",
    "        connect=retries,\n",
    "        backoff_factor=backoff_factor,\n",
    "        status_forcelist=status_forcelist,\n",
    "    )\n",
    "    adapter = HTTPAdapter(max_retries=retry)\n",
    "    session.mount('http://', adapter)\n",
    "    session.mount('https://', adapter)\n",
    "    return session"
   ]
  },
  {
   "cell_type": "code",
   "execution_count": 3,
   "metadata": {},
   "outputs": [],
   "source": [
    "data = pandas.read_json(\"https://vpic.nhtsa.dot.gov/api/vehicles/GetMakesForVehicleType/car?format=json\")\n",
    "makes = pandas.io.json.json_normalize(data['Results'])"
   ]
  },
  {
   "cell_type": "code",
   "execution_count": 4,
   "metadata": {},
   "outputs": [],
   "source": [
    "t = pandas.DataFrame(columns=['Year', 'Make_ID', 'Make_Name', 'Model_ID', 'Model_Name'])"
   ]
  },
  {
   "cell_type": "code",
   "execution_count": null,
   "metadata": {},
   "outputs": [
    {
     "name": "stdout",
     "output_type": "stream",
     "text": [
      "Aston Martin\n",
      "Tesla\n",
      "Jaguar\n",
      "Maserati\n",
      "Rolls Royce\n",
      "Toyota\n",
      "Mercedes-Benz\n",
      "BMW\n",
      "Bugatti\n",
      "MINI\n",
      "Ford\n",
      "Lincoln\n",
      "Mercury\n",
      "Lotus\n",
      "Chevrolet\n",
      "Buick\n",
      "Cadillac\n",
      "Holden\n",
      "Opel\n",
      "GMC\n",
      "Mazda\n",
      "Honda\n",
      "Acura\n",
      "Dodge\n",
      "Chrysler\n",
      "Nissan\n",
      "Infiniti\n",
      "Mitsubishi\n",
      "Volkswagen\n",
      "Volvo\n",
      "Fiat\n",
      "Alfa Romeo\n",
      "Lancia\n",
      "Hyundai\n",
      "Kia\n",
      "Lamborghini\n",
      "smart\n",
      "Suzuki\n",
      "Lexus\n",
      "Subaru\n",
      "Maybach\n",
      "Pontiac\n",
      "Morgan\n",
      "Isuzu\n",
      "SAAB\n",
      "Audi\n",
      "Bentley\n",
      "Porsche\n",
      "Ferrari\n",
      "AM General\n",
      "Creative Coachworks\n",
      "D & N Trailers\n",
      "AC Propulsion\n",
      "Daihatsu\n",
      "Falcon\n",
      "EV Innovations\n",
      "Faw Jiaxing Happy Messenger\n",
      "FISKER AUTOMOTIVE\n",
      "Nina\n",
      "Saturn\n",
      "Daewoo\n",
      "American Motors\n",
      "Formula 1 Street Com\n",
      "Geo\n",
      "FortuneSport VES\n",
      "AAS\n",
      "EQUUS AUTOMOTIVE\n",
      "Electric Mobile Cars\n",
      "Avera Motors\n",
      "GREENTECH AUTOMOTIVE\n",
      "Bakkura Mobility\n",
      "Th!nk\n",
      "COMMUNITY CARS \n",
      "CONTEMPORARY CLASSIC CARS\n",
      "Koenigsegg\n",
      "BYD\n",
      "Kepler Motors\n",
      "McLaren\n",
      "mycar\n",
      "Eagle\n",
      "Plymouth\n",
      "Nanchang Freedom Technology Limited Company \n"
     ]
    }
   ],
   "source": [
    "for make in makes.iterrows():    \n",
    "    print(make[1]['MakeName'])\n",
    "    make_id = make[1]['MakeId']\n",
    "    for year in range(2000,2021):\n",
    "        r = requests_retry_session().get(\"https://vpic.nhtsa.dot.gov/api/vehicles/GetModelsForMakeIdYear/makeId/{}/modelyear/{}/vehicletype/car?format=json\".format(make_id,year))\n",
    "        data = pandas.read_json(r.text)\n",
    "        models = pandas.DataFrame(pandas.io.json.json_normalize(data['Results']), columns=['Make_ID', 'Make_Name', 'Model_ID', 'Model_Name'])\n",
    "        models['Year'] = year\n",
    "        t = t.append(models, ignore_index=True, sort=False)"
   ]
  },
  {
   "cell_type": "code",
   "execution_count": 12,
   "metadata": {},
   "outputs": [],
   "source": [
    "t.to_csv('makeid_by_year.csv',index=False)"
   ]
  },
  {
   "cell_type": "code",
   "execution_count": null,
   "metadata": {},
   "outputs": [],
   "source": []
  }
 ],
 "metadata": {
  "kernelspec": {
   "display_name": "Python 3",
   "language": "python",
   "name": "python3"
  },
  "language_info": {
   "codemirror_mode": {
    "name": "ipython",
    "version": 3
   },
   "file_extension": ".py",
   "mimetype": "text/x-python",
   "name": "python",
   "nbconvert_exporter": "python",
   "pygments_lexer": "ipython3",
   "version": "3.7.3"
  }
 },
 "nbformat": 4,
 "nbformat_minor": 4
}
